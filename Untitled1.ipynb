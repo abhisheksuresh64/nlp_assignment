{
 "cells": [
  {
   "cell_type": "code",
   "execution_count": 5,
   "id": "12d210f0",
   "metadata": {},
   "outputs": [],
   "source": [
    "import warnings\n",
    "warnings.filterwarnings('ignore')\n",
    "\n",
    "import pandas as pd\n",
    "import numpy as np\n",
    "from st_aggrid import AgGrid, GridOptionsBuilder\n",
    "import base64\n",
    "import re\n",
    "import streamlit as st\n",
    "# import boto3\n",
    "from PIL import Image\n",
    "import io"
   ]
  },
  {
   "cell_type": "code",
   "execution_count": 6,
   "id": "9d787a9c",
   "metadata": {},
   "outputs": [],
   "source": [
    "\n",
    "import logging\n",
    "\n",
    "\n",
    "# Create and configure logger\n",
    "logging.basicConfig(level=logging.INFO,\n",
    "                    format='%(asctime)s %(message)s'\n",
    "                    )\n",
    " \n",
    "# Creating an object\n",
    "logger = logging.getLogger()\n"
   ]
  },
  {
   "cell_type": "code",
   "execution_count": null,
   "id": "56754113",
   "metadata": {},
   "outputs": [],
   "source": []
  }
 ],
 "metadata": {
  "kernelspec": {
   "display_name": "Python (GPU)",
   "language": "python",
   "name": "base"
  },
  "language_info": {
   "codemirror_mode": {
    "name": "ipython",
    "version": 3
   },
   "file_extension": ".py",
   "mimetype": "text/x-python",
   "name": "python",
   "nbconvert_exporter": "python",
   "pygments_lexer": "ipython3",
   "version": "3.11.5"
  }
 },
 "nbformat": 4,
 "nbformat_minor": 5
}
