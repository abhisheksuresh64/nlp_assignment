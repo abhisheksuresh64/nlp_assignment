{
 "cells": [
  {
   "cell_type": "code",
   "execution_count": 8,
   "id": "0dd83a9a",
   "metadata": {},
   "outputs": [],
   "source": [
    "import yfinance as yf\n",
    "\n",
    "\n",
    "import warnings\n",
    "warnings.filterwarnings(\"ignore\")"
   ]
  },
  {
   "cell_type": "code",
   "execution_count": null,
   "id": "083fb455",
   "metadata": {},
   "outputs": [],
   "source": []
  },
  {
   "cell_type": "code",
   "execution_count": 21,
   "id": "0f795a2e",
   "metadata": {},
   "outputs": [],
   "source": [
    "niftystock_data = yf.Ticker(\"^NSEI\") \n",
    "bnstock_data = yf.Ticker(\"^NSEBANK\")\n",
    "niftymidc = yf.Ticker(\"^NSEMDCP50\")\n",
    "indiavix = yf.Ticker(\"^INDIAVIX\")\n",
    "niftysmlcap = yf.Ticker(\"NIFTYSMLCAP50.NS\")\n",
    "niftyit = yf.Ticker(\"^CNXIT\")\n",
    "niftyauto = yf.Ticker(\"^CNXAUTO\")\n",
    "niftyfinserv = yf.Ticker(\"NIFTY_FIN_SERVICE.NS\")\n",
    "niftypsubank = yf.Ticker(\"^CNXPSUBANK\")\n",
    "niftypharma = yf.Ticker(\"^CNXPHARMA\")\n"
   ]
  },
  {
   "cell_type": "code",
   "execution_count": 86,
   "id": "90aab607",
   "metadata": {},
   "outputs": [],
   "source": [
    "df =niftypsubank.history(\"ytd\")[[\"Open\",\"High\",\"Low\",\"Close\",\"Volume\"]]"
   ]
  },
  {
   "cell_type": "code",
   "execution_count": 84,
   "id": "b1bce924",
   "metadata": {},
   "outputs": [],
   "source": [
    "stocks=[niftystock_data,bnstock_data,niftymidc,indiavix,niftysmlcap,niftyit,niftyfinserv,niftyauto,niftypsubank,niftypharma]"
   ]
  },
  {
   "cell_type": "code",
   "execution_count": 85,
   "id": "a4e59a1e",
   "metadata": {},
   "outputs": [
    {
     "data": {
      "text/plain": [
       "(113, 6)"
      ]
     },
     "execution_count": 85,
     "metadata": {},
     "output_type": "execute_result"
    }
   ],
   "source": [
    "df.shape"
   ]
  },
  {
   "cell_type": "code",
   "execution_count": 123,
   "id": "61414fbb",
   "metadata": {},
   "outputs": [
    {
     "name": "stderr",
     "output_type": "stream",
     "text": [
      "^NSEI: Period 'yy' is invalid, must be one of ['1d', '5d', '1mo', '3mo', '6mo', '1y', '2y', '5y', '10y', 'ytd', 'max']\n"
     ]
    },
    {
     "data": {
      "text/html": [
       "<div>\n",
       "<style scoped>\n",
       "    .dataframe tbody tr th:only-of-type {\n",
       "        vertical-align: middle;\n",
       "    }\n",
       "\n",
       "    .dataframe tbody tr th {\n",
       "        vertical-align: top;\n",
       "    }\n",
       "\n",
       "    .dataframe thead th {\n",
       "        text-align: right;\n",
       "    }\n",
       "</style>\n",
       "<table border=\"1\" class=\"dataframe\">\n",
       "  <thead>\n",
       "    <tr style=\"text-align: right;\">\n",
       "      <th></th>\n",
       "      <th>Open</th>\n",
       "      <th>High</th>\n",
       "      <th>Low</th>\n",
       "      <th>Close</th>\n",
       "      <th>Adj Close</th>\n",
       "      <th>Volume</th>\n",
       "    </tr>\n",
       "    <tr>\n",
       "      <th>Date</th>\n",
       "      <th></th>\n",
       "      <th></th>\n",
       "      <th></th>\n",
       "      <th></th>\n",
       "      <th></th>\n",
       "      <th></th>\n",
       "    </tr>\n",
       "  </thead>\n",
       "  <tbody>\n",
       "  </tbody>\n",
       "</table>\n",
       "</div>"
      ],
      "text/plain": [
       "Empty DataFrame\n",
       "Columns: [Open, High, Low, Close, Adj Close, Volume]\n",
       "Index: []"
      ]
     },
     "execution_count": 123,
     "metadata": {},
     "output_type": "execute_result"
    }
   ],
   "source": [
    "niftystock_data.history(\"yy\")[::-1]"
   ]
  },
  {
   "cell_type": "code",
   "execution_count": 121,
   "id": "a31a08d5",
   "metadata": {},
   "outputs": [],
   "source": [
    "import pandas as pd\n",
    "import numpy as np"
   ]
  },
  {
   "cell_type": "code",
   "execution_count": 87,
   "id": "973a23b1",
   "metadata": {},
   "outputs": [],
   "source": [
    "df.index=pd.to_datetime(df.index).date"
   ]
  },
  {
   "cell_type": "code",
   "execution_count": 95,
   "id": "36c441a0",
   "metadata": {},
   "outputs": [],
   "source": [
    "from datetime import datetime\n",
    "from datetime import timedelta"
   ]
  },
  {
   "cell_type": "code",
   "execution_count": 89,
   "id": "7cb671d5",
   "metadata": {},
   "outputs": [
    {
     "data": {
      "text/html": [
       "<div>\n",
       "<style scoped>\n",
       "    .dataframe tbody tr th:only-of-type {\n",
       "        vertical-align: middle;\n",
       "    }\n",
       "\n",
       "    .dataframe tbody tr th {\n",
       "        vertical-align: top;\n",
       "    }\n",
       "\n",
       "    .dataframe thead th {\n",
       "        text-align: right;\n",
       "    }\n",
       "</style>\n",
       "<table border=\"1\" class=\"dataframe\">\n",
       "  <thead>\n",
       "    <tr style=\"text-align: right;\">\n",
       "      <th></th>\n",
       "      <th>Open</th>\n",
       "      <th>High</th>\n",
       "      <th>Low</th>\n",
       "      <th>Close</th>\n",
       "      <th>Volume</th>\n",
       "    </tr>\n",
       "  </thead>\n",
       "  <tbody>\n",
       "    <tr>\n",
       "      <th>2024-01-02</th>\n",
       "      <td>5759.950195</td>\n",
       "      <td>5811.399902</td>\n",
       "      <td>5684.750000</td>\n",
       "      <td>5735.000000</td>\n",
       "      <td>2105700</td>\n",
       "    </tr>\n",
       "    <tr>\n",
       "      <th>2024-01-03</th>\n",
       "      <td>5740.049805</td>\n",
       "      <td>5841.750000</td>\n",
       "      <td>5700.350098</td>\n",
       "      <td>5801.049805</td>\n",
       "      <td>3532300</td>\n",
       "    </tr>\n",
       "    <tr>\n",
       "      <th>2024-01-04</th>\n",
       "      <td>5810.850098</td>\n",
       "      <td>5875.350098</td>\n",
       "      <td>5803.350098</td>\n",
       "      <td>5860.899902</td>\n",
       "      <td>2156600</td>\n",
       "    </tr>\n",
       "    <tr>\n",
       "      <th>2024-01-05</th>\n",
       "      <td>5886.649902</td>\n",
       "      <td>5908.899902</td>\n",
       "      <td>5783.350098</td>\n",
       "      <td>5838.450195</td>\n",
       "      <td>2038100</td>\n",
       "    </tr>\n",
       "    <tr>\n",
       "      <th>2024-01-08</th>\n",
       "      <td>5825.549805</td>\n",
       "      <td>5826.100098</td>\n",
       "      <td>5680.850098</td>\n",
       "      <td>5691.399902</td>\n",
       "      <td>1859400</td>\n",
       "    </tr>\n",
       "  </tbody>\n",
       "</table>\n",
       "</div>"
      ],
      "text/plain": [
       "                   Open         High          Low        Close   Volume\n",
       "2024-01-02  5759.950195  5811.399902  5684.750000  5735.000000  2105700\n",
       "2024-01-03  5740.049805  5841.750000  5700.350098  5801.049805  3532300\n",
       "2024-01-04  5810.850098  5875.350098  5803.350098  5860.899902  2156600\n",
       "2024-01-05  5886.649902  5908.899902  5783.350098  5838.450195  2038100\n",
       "2024-01-08  5825.549805  5826.100098  5680.850098  5691.399902  1859400"
      ]
     },
     "execution_count": 89,
     "metadata": {},
     "output_type": "execute_result"
    }
   ],
   "source": [
    "df.head()"
   ]
  },
  {
   "cell_type": "code",
   "execution_count": 124,
   "id": "3f9aa2ca",
   "metadata": {},
   "outputs": [],
   "source": [
    "startDate = datetime(2024, 6,20)\n",
    " \n",
    "# endDate , as per our convenience we can modify\n",
    "endDate = datetime(2024, 6,21)"
   ]
  },
  {
   "cell_type": "code",
   "execution_count": 128,
   "id": "6b055bb1",
   "metadata": {},
   "outputs": [],
   "source": [
    "df['Change'] = np.where((df[\"Open\"]<df[\"Close\"]),\"Positive\",\"Negative\")\n",
    "date=datetime(2024, 6, 21)\n",
    "end_date=(date+timedelta(days=1)).date()"
   ]
  },
  {
   "cell_type": "code",
   "execution_count": 92,
   "id": "18e5f65f",
   "metadata": {},
   "outputs": [
    {
     "ename": "KeyError",
     "evalue": "\"['change'] not found in axis\"",
     "output_type": "error",
     "traceback": [
      "\u001b[1;31m---------------------------------------------------------------------------\u001b[0m",
      "\u001b[1;31mKeyError\u001b[0m                                  Traceback (most recent call last)",
      "Cell \u001b[1;32mIn[92], line 1\u001b[0m\n\u001b[1;32m----> 1\u001b[0m df\u001b[38;5;241m=\u001b[39mdf\u001b[38;5;241m.\u001b[39mdrop(\u001b[38;5;124m\"\u001b[39m\u001b[38;5;124mchange\u001b[39m\u001b[38;5;124m\"\u001b[39m,axis\u001b[38;5;241m=\u001b[39m\u001b[38;5;241m1\u001b[39m)\n",
      "File \u001b[1;32m~\\anaconda3\\Lib\\site-packages\\pandas\\core\\frame.py:5258\u001b[0m, in \u001b[0;36mDataFrame.drop\u001b[1;34m(self, labels, axis, index, columns, level, inplace, errors)\u001b[0m\n\u001b[0;32m   5110\u001b[0m \u001b[38;5;28;01mdef\u001b[39;00m \u001b[38;5;21mdrop\u001b[39m(\n\u001b[0;32m   5111\u001b[0m     \u001b[38;5;28mself\u001b[39m,\n\u001b[0;32m   5112\u001b[0m     labels: IndexLabel \u001b[38;5;241m=\u001b[39m \u001b[38;5;28;01mNone\u001b[39;00m,\n\u001b[1;32m   (...)\u001b[0m\n\u001b[0;32m   5119\u001b[0m     errors: IgnoreRaise \u001b[38;5;241m=\u001b[39m \u001b[38;5;124m\"\u001b[39m\u001b[38;5;124mraise\u001b[39m\u001b[38;5;124m\"\u001b[39m,\n\u001b[0;32m   5120\u001b[0m ) \u001b[38;5;241m-\u001b[39m\u001b[38;5;241m>\u001b[39m DataFrame \u001b[38;5;241m|\u001b[39m \u001b[38;5;28;01mNone\u001b[39;00m:\n\u001b[0;32m   5121\u001b[0m \u001b[38;5;250m    \u001b[39m\u001b[38;5;124;03m\"\"\"\u001b[39;00m\n\u001b[0;32m   5122\u001b[0m \u001b[38;5;124;03m    Drop specified labels from rows or columns.\u001b[39;00m\n\u001b[0;32m   5123\u001b[0m \n\u001b[1;32m   (...)\u001b[0m\n\u001b[0;32m   5256\u001b[0m \u001b[38;5;124;03m            weight  1.0     0.8\u001b[39;00m\n\u001b[0;32m   5257\u001b[0m \u001b[38;5;124;03m    \"\"\"\u001b[39;00m\n\u001b[1;32m-> 5258\u001b[0m     \u001b[38;5;28;01mreturn\u001b[39;00m \u001b[38;5;28msuper\u001b[39m()\u001b[38;5;241m.\u001b[39mdrop(\n\u001b[0;32m   5259\u001b[0m         labels\u001b[38;5;241m=\u001b[39mlabels,\n\u001b[0;32m   5260\u001b[0m         axis\u001b[38;5;241m=\u001b[39maxis,\n\u001b[0;32m   5261\u001b[0m         index\u001b[38;5;241m=\u001b[39mindex,\n\u001b[0;32m   5262\u001b[0m         columns\u001b[38;5;241m=\u001b[39mcolumns,\n\u001b[0;32m   5263\u001b[0m         level\u001b[38;5;241m=\u001b[39mlevel,\n\u001b[0;32m   5264\u001b[0m         inplace\u001b[38;5;241m=\u001b[39minplace,\n\u001b[0;32m   5265\u001b[0m         errors\u001b[38;5;241m=\u001b[39merrors,\n\u001b[0;32m   5266\u001b[0m     )\n",
      "File \u001b[1;32m~\\anaconda3\\Lib\\site-packages\\pandas\\core\\generic.py:4549\u001b[0m, in \u001b[0;36mNDFrame.drop\u001b[1;34m(self, labels, axis, index, columns, level, inplace, errors)\u001b[0m\n\u001b[0;32m   4547\u001b[0m \u001b[38;5;28;01mfor\u001b[39;00m axis, labels \u001b[38;5;129;01min\u001b[39;00m axes\u001b[38;5;241m.\u001b[39mitems():\n\u001b[0;32m   4548\u001b[0m     \u001b[38;5;28;01mif\u001b[39;00m labels \u001b[38;5;129;01mis\u001b[39;00m \u001b[38;5;129;01mnot\u001b[39;00m \u001b[38;5;28;01mNone\u001b[39;00m:\n\u001b[1;32m-> 4549\u001b[0m         obj \u001b[38;5;241m=\u001b[39m obj\u001b[38;5;241m.\u001b[39m_drop_axis(labels, axis, level\u001b[38;5;241m=\u001b[39mlevel, errors\u001b[38;5;241m=\u001b[39merrors)\n\u001b[0;32m   4551\u001b[0m \u001b[38;5;28;01mif\u001b[39;00m inplace:\n\u001b[0;32m   4552\u001b[0m     \u001b[38;5;28mself\u001b[39m\u001b[38;5;241m.\u001b[39m_update_inplace(obj)\n",
      "File \u001b[1;32m~\\anaconda3\\Lib\\site-packages\\pandas\\core\\generic.py:4591\u001b[0m, in \u001b[0;36mNDFrame._drop_axis\u001b[1;34m(self, labels, axis, level, errors, only_slice)\u001b[0m\n\u001b[0;32m   4589\u001b[0m         new_axis \u001b[38;5;241m=\u001b[39m axis\u001b[38;5;241m.\u001b[39mdrop(labels, level\u001b[38;5;241m=\u001b[39mlevel, errors\u001b[38;5;241m=\u001b[39merrors)\n\u001b[0;32m   4590\u001b[0m     \u001b[38;5;28;01melse\u001b[39;00m:\n\u001b[1;32m-> 4591\u001b[0m         new_axis \u001b[38;5;241m=\u001b[39m axis\u001b[38;5;241m.\u001b[39mdrop(labels, errors\u001b[38;5;241m=\u001b[39merrors)\n\u001b[0;32m   4592\u001b[0m     indexer \u001b[38;5;241m=\u001b[39m axis\u001b[38;5;241m.\u001b[39mget_indexer(new_axis)\n\u001b[0;32m   4594\u001b[0m \u001b[38;5;66;03m# Case for non-unique axis\u001b[39;00m\n\u001b[0;32m   4595\u001b[0m \u001b[38;5;28;01melse\u001b[39;00m:\n",
      "File \u001b[1;32m~\\anaconda3\\Lib\\site-packages\\pandas\\core\\indexes\\base.py:6699\u001b[0m, in \u001b[0;36mIndex.drop\u001b[1;34m(self, labels, errors)\u001b[0m\n\u001b[0;32m   6697\u001b[0m \u001b[38;5;28;01mif\u001b[39;00m mask\u001b[38;5;241m.\u001b[39many():\n\u001b[0;32m   6698\u001b[0m     \u001b[38;5;28;01mif\u001b[39;00m errors \u001b[38;5;241m!=\u001b[39m \u001b[38;5;124m\"\u001b[39m\u001b[38;5;124mignore\u001b[39m\u001b[38;5;124m\"\u001b[39m:\n\u001b[1;32m-> 6699\u001b[0m         \u001b[38;5;28;01mraise\u001b[39;00m \u001b[38;5;167;01mKeyError\u001b[39;00m(\u001b[38;5;124mf\u001b[39m\u001b[38;5;124m\"\u001b[39m\u001b[38;5;132;01m{\u001b[39;00m\u001b[38;5;28mlist\u001b[39m(labels[mask])\u001b[38;5;132;01m}\u001b[39;00m\u001b[38;5;124m not found in axis\u001b[39m\u001b[38;5;124m\"\u001b[39m)\n\u001b[0;32m   6700\u001b[0m     indexer \u001b[38;5;241m=\u001b[39m indexer[\u001b[38;5;241m~\u001b[39mmask]\n\u001b[0;32m   6701\u001b[0m \u001b[38;5;28;01mreturn\u001b[39;00m \u001b[38;5;28mself\u001b[39m\u001b[38;5;241m.\u001b[39mdelete(indexer)\n",
      "\u001b[1;31mKeyError\u001b[0m: \"['change'] not found in axis\""
     ]
    }
   ],
   "source": [
    "df=df.drop(\"change\",axis=1)"
   ]
  },
  {
   "cell_type": "code",
   "execution_count": 96,
   "id": "b74f5ada",
   "metadata": {},
   "outputs": [],
   "source": []
  },
  {
   "cell_type": "code",
   "execution_count": 101,
   "id": "53f1b767",
   "metadata": {},
   "outputs": [
    {
     "data": {
      "text/plain": [
       "datetime.timedelta(days=1)"
      ]
     },
     "execution_count": 101,
     "metadata": {},
     "output_type": "execute_result"
    }
   ],
   "source": [
    "timedelta(days=1)"
   ]
  },
  {
   "cell_type": "code",
   "execution_count": 107,
   "id": "7669ee88",
   "metadata": {},
   "outputs": [
    {
     "data": {
      "text/plain": [
       "datetime.date(2024, 6, 22)"
      ]
     },
     "execution_count": 107,
     "metadata": {},
     "output_type": "execute_result"
    }
   ],
   "source": [
    "end_date\n"
   ]
  },
  {
   "cell_type": "code",
   "execution_count": 108,
   "id": "9e68366c",
   "metadata": {},
   "outputs": [],
   "source": [
    "input_text = (\n",
    "        f\"Daily Stock Report\\n\\n\"\n",
    "        f\"Executive Summary:\\n\"\n",
    "      \n",
    "        \n",
    "    )"
   ]
  },
  {
   "cell_type": "code",
   "execution_count": 109,
   "id": "48871f6a",
   "metadata": {},
   "outputs": [
    {
     "data": {
      "text/plain": [
       "str"
      ]
     },
     "execution_count": 109,
     "metadata": {},
     "output_type": "execute_result"
    }
   ],
   "source": [
    "type(input_text)"
   ]
  },
  {
   "cell_type": "code",
   "execution_count": null,
   "id": "04cc6fcf",
   "metadata": {},
   "outputs": [],
   "source": [
    "for stock in stocks:\n",
    "    df=stock.history(start=startDate,  end=endDate)\n",
    "    input_text += (\n",
    "        f\"${stock:.2f} ended on a  ${df[\"Change\"]:.2f} note.  and closed at ${df[\"Close\"]} \\n\"\n",
    "        \n",
    "    )"
   ]
  },
  {
   "cell_type": "code",
   "execution_count": 130,
   "id": "4c6563cd",
   "metadata": {},
   "outputs": [
    {
     "data": {
      "text/html": [
       "<div>\n",
       "<style scoped>\n",
       "    .dataframe tbody tr th:only-of-type {\n",
       "        vertical-align: middle;\n",
       "    }\n",
       "\n",
       "    .dataframe tbody tr th {\n",
       "        vertical-align: top;\n",
       "    }\n",
       "\n",
       "    .dataframe thead th {\n",
       "        text-align: right;\n",
       "    }\n",
       "</style>\n",
       "<table border=\"1\" class=\"dataframe\">\n",
       "  <thead>\n",
       "    <tr style=\"text-align: right;\">\n",
       "      <th></th>\n",
       "      <th>Open</th>\n",
       "      <th>High</th>\n",
       "      <th>Low</th>\n",
       "      <th>Close</th>\n",
       "      <th>Volume</th>\n",
       "      <th>Dividends</th>\n",
       "      <th>Stock Splits</th>\n",
       "    </tr>\n",
       "    <tr>\n",
       "      <th>Date</th>\n",
       "      <th></th>\n",
       "      <th></th>\n",
       "      <th></th>\n",
       "      <th></th>\n",
       "      <th></th>\n",
       "      <th></th>\n",
       "      <th></th>\n",
       "    </tr>\n",
       "  </thead>\n",
       "  <tbody>\n",
       "    <tr>\n",
       "      <th>2024-06-20 00:00:00+05:30</th>\n",
       "      <td>23586.150391</td>\n",
       "      <td>23624.0</td>\n",
       "      <td>23442.599609</td>\n",
       "      <td>23567.0</td>\n",
       "      <td>280300</td>\n",
       "      <td>0.0</td>\n",
       "      <td>0.0</td>\n",
       "    </tr>\n",
       "  </tbody>\n",
       "</table>\n",
       "</div>"
      ],
      "text/plain": [
       "                                   Open     High           Low    Close  \\\n",
       "Date                                                                      \n",
       "2024-06-20 00:00:00+05:30  23586.150391  23624.0  23442.599609  23567.0   \n",
       "\n",
       "                           Volume  Dividends  Stock Splits  \n",
       "Date                                                        \n",
       "2024-06-20 00:00:00+05:30  280300        0.0           0.0  "
      ]
     },
     "execution_count": 130,
     "metadata": {},
     "output_type": "execute_result"
    }
   ],
   "source": [
    "niftystock_data.history(start=startDate,  end=endDate)"
   ]
  },
  {
   "cell_type": "code",
   "execution_count": 129,
   "id": "2aafcab7",
   "metadata": {},
   "outputs": [
    {
     "data": {
      "text/html": [
       "<div>\n",
       "<style scoped>\n",
       "    .dataframe tbody tr th:only-of-type {\n",
       "        vertical-align: middle;\n",
       "    }\n",
       "\n",
       "    .dataframe tbody tr th {\n",
       "        vertical-align: top;\n",
       "    }\n",
       "\n",
       "    .dataframe thead th {\n",
       "        text-align: right;\n",
       "    }\n",
       "</style>\n",
       "<table border=\"1\" class=\"dataframe\">\n",
       "  <thead>\n",
       "    <tr style=\"text-align: right;\">\n",
       "      <th></th>\n",
       "      <th>Open</th>\n",
       "      <th>High</th>\n",
       "      <th>Low</th>\n",
       "      <th>Close</th>\n",
       "      <th>Volume</th>\n",
       "      <th>Dividends</th>\n",
       "      <th>Stock Splits</th>\n",
       "      <th>Change</th>\n",
       "    </tr>\n",
       "    <tr>\n",
       "      <th>Date</th>\n",
       "      <th></th>\n",
       "      <th></th>\n",
       "      <th></th>\n",
       "      <th></th>\n",
       "      <th></th>\n",
       "      <th></th>\n",
       "      <th></th>\n",
       "      <th></th>\n",
       "    </tr>\n",
       "  </thead>\n",
       "  <tbody>\n",
       "    <tr>\n",
       "      <th>2024-06-19 00:00:00+05:30</th>\n",
       "      <td>23629.849609</td>\n",
       "      <td>23664.0</td>\n",
       "      <td>23412.900391</td>\n",
       "      <td>23516.0</td>\n",
       "      <td>328800</td>\n",
       "      <td>0.0</td>\n",
       "      <td>0.0</td>\n",
       "      <td>Negative</td>\n",
       "    </tr>\n",
       "  </tbody>\n",
       "</table>\n",
       "</div>"
      ],
      "text/plain": [
       "                                   Open     High           Low    Close  \\\n",
       "Date                                                                      \n",
       "2024-06-19 00:00:00+05:30  23629.849609  23664.0  23412.900391  23516.0   \n",
       "\n",
       "                           Volume  Dividends  Stock Splits    Change  \n",
       "Date                                                                  \n",
       "2024-06-19 00:00:00+05:30  328800        0.0           0.0  Negative  "
      ]
     },
     "execution_count": 129,
     "metadata": {},
     "output_type": "execute_result"
    }
   ],
   "source": [
    "df"
   ]
  },
  {
   "cell_type": "code",
   "execution_count": 127,
   "id": "405ed791",
   "metadata": {},
   "outputs": [
    {
     "data": {
      "text/html": [
       "<div>\n",
       "<style scoped>\n",
       "    .dataframe tbody tr th:only-of-type {\n",
       "        vertical-align: middle;\n",
       "    }\n",
       "\n",
       "    .dataframe tbody tr th {\n",
       "        vertical-align: top;\n",
       "    }\n",
       "\n",
       "    .dataframe thead th {\n",
       "        text-align: right;\n",
       "    }\n",
       "</style>\n",
       "<table border=\"1\" class=\"dataframe\">\n",
       "  <thead>\n",
       "    <tr style=\"text-align: right;\">\n",
       "      <th></th>\n",
       "      <th>Open</th>\n",
       "      <th>High</th>\n",
       "      <th>Low</th>\n",
       "      <th>Close</th>\n",
       "      <th>Volume</th>\n",
       "      <th>Dividends</th>\n",
       "      <th>Stock Splits</th>\n",
       "    </tr>\n",
       "    <tr>\n",
       "      <th>Date</th>\n",
       "      <th></th>\n",
       "      <th></th>\n",
       "      <th></th>\n",
       "      <th></th>\n",
       "      <th></th>\n",
       "      <th></th>\n",
       "      <th></th>\n",
       "    </tr>\n",
       "  </thead>\n",
       "  <tbody>\n",
       "    <tr>\n",
       "      <th>2024-06-19 00:00:00+05:30</th>\n",
       "      <td>23629.849609</td>\n",
       "      <td>23664.0</td>\n",
       "      <td>23412.900391</td>\n",
       "      <td>23516.0</td>\n",
       "      <td>328800</td>\n",
       "      <td>0.0</td>\n",
       "      <td>0.0</td>\n",
       "    </tr>\n",
       "  </tbody>\n",
       "</table>\n",
       "</div>"
      ],
      "text/plain": [
       "                                   Open     High           Low    Close  \\\n",
       "Date                                                                      \n",
       "2024-06-19 00:00:00+05:30  23629.849609  23664.0  23412.900391  23516.0   \n",
       "\n",
       "                           Volume  Dividends  Stock Splits  \n",
       "Date                                                        \n",
       "2024-06-19 00:00:00+05:30  328800        0.0           0.0  "
      ]
     },
     "execution_count": 127,
     "metadata": {},
     "output_type": "execute_result"
    }
   ],
   "source": [
    "df"
   ]
  },
  {
   "cell_type": "code",
   "execution_count": 133,
   "id": "a59bbd67",
   "metadata": {},
   "outputs": [
    {
     "name": "stdout",
     "output_type": "stream",
     "text": [
      "Fetching data for RELIANCE.NS\n",
      "Fetching data for HDFCBANK.NS\n",
      "Fetching data for INFY.NS\n",
      "Fetching data for ICICIBANK.NS\n",
      "Fetching data for TCS.NS\n",
      "Fetching data for KOTAKBANK.NS\n",
      "Fetching data for HINDUNILVR.NS\n",
      "Fetching data for SBIN.NS\n",
      "Fetching data for HDFC.NS\n"
     ]
    },
    {
     "name": "stderr",
     "output_type": "stream",
     "text": [
      "$HDFC.NS: possibly delisted; No timezone found\n"
     ]
    },
    {
     "name": "stdout",
     "output_type": "stream",
     "text": [
      "Fetching data for BHARTIARTL.NS\n",
      "Fetching data for BAJFINANCE.NS\n",
      "Fetching data for ASIANPAINT.NS\n",
      "Fetching data for ITC.NS\n",
      "Fetching data for AXISBANK.NS\n",
      "Fetching data for LT.NS\n",
      "Fetching data for HCLTECH.NS\n",
      "Fetching data for MARUTI.NS\n",
      "Fetching data for SUNPHARMA.NS\n",
      "Fetching data for TITAN.NS\n",
      "Fetching data for TATASTEEL.NS\n",
      "Fetching data for ULTRACEMCO.NS\n",
      "Fetching data for WIPRO.NS\n",
      "Fetching data for NTPC.NS\n",
      "Fetching data for POWERGRID.NS\n",
      "Fetching data for TECHM.NS\n",
      "Fetching data for INDUSINDBK.NS\n",
      "Fetching data for SBILIFE.NS\n",
      "Fetching data for DIVISLAB.NS\n",
      "Fetching data for M&M.NS\n",
      "Fetching data for DRREDDY.NS\n",
      "Fetching data for ADANIENT.NS\n",
      "Fetching data for HINDALCO.NS\n",
      "Fetching data for TATAMOTORS.NS\n",
      "Fetching data for GRASIM.NS\n",
      "Fetching data for ONGC.NS\n",
      "Fetching data for BAJAJFINSV.NS\n",
      "Fetching data for JSWSTEEL.NS\n",
      "Fetching data for BPCL.NS\n",
      "Fetching data for BRITANNIA.NS\n",
      "Fetching data for CIPLA.NS\n",
      "Fetching data for APOLLOHOSP.NS\n",
      "Fetching data for EICHERMOT.NS\n",
      "Fetching data for HEROMOTOCO.NS\n",
      "Fetching data for UPL.NS\n",
      "Fetching data for COALINDIA.NS\n",
      "Fetching data for TATACONSUM.NS\n",
      "Fetching data for SHREECEM.NS\n",
      "Fetching data for ADANIPORTS.NS\n",
      "Fetching data for NESTLEIND.NS\n",
      "Fetching data for HDFCLIFE.NS\n"
     ]
    }
   ],
   "source": [
    "import yfinance as yf\n",
    "import pandas as pd\n",
    "\n",
    "# List of Nifty 50 ticker symbols\n",
    "nifty_50_tickers = [\n",
    "    \"RELIANCE.NS\", \"HDFCBANK.NS\", \"INFY.NS\", \"ICICIBANK.NS\", \"TCS.NS\",\n",
    "    \"KOTAKBANK.NS\", \"HINDUNILVR.NS\", \"SBIN.NS\", \"HDFC.NS\", \"BHARTIARTL.NS\",\n",
    "    \"BAJFINANCE.NS\", \"ASIANPAINT.NS\", \"ITC.NS\", \"AXISBANK.NS\", \"LT.NS\",\n",
    "    \"HCLTECH.NS\", \"MARUTI.NS\", \"SUNPHARMA.NS\", \"TITAN.NS\", \"TATASTEEL.NS\",\n",
    "    \"ULTRACEMCO.NS\", \"WIPRO.NS\", \"NTPC.NS\", \"POWERGRID.NS\", \"TECHM.NS\",\n",
    "    \"INDUSINDBK.NS\", \"SBILIFE.NS\", \"DIVISLAB.NS\", \"M&M.NS\", \"DRREDDY.NS\",\n",
    "    \"ADANIENT.NS\", \"HINDALCO.NS\", \"TATAMOTORS.NS\", \"GRASIM.NS\", \"ONGC.NS\",\n",
    "    \"BAJAJFINSV.NS\", \"JSWSTEEL.NS\", \"BPCL.NS\", \"BRITANNIA.NS\", \"CIPLA.NS\",\n",
    "    \"APOLLOHOSP.NS\", \"EICHERMOT.NS\", \"HEROMOTOCO.NS\", \"UPL.NS\", \"COALINDIA.NS\",\n",
    "    \"TATACONSUM.NS\", \"SHREECEM.NS\", \"ADANIPORTS.NS\", \"NESTLEIND.NS\", \"HDFCLIFE.NS\"\n",
    "]\n",
    "\n",
    "# Function to fetch data\n",
    "def fetch_stock_data(ticker_list):\n",
    "    all_data = {}\n",
    "    for ticker in ticker_list:\n",
    "        print(f\"Fetching data for {ticker}\")\n",
    "        stock = yf.Ticker(ticker)\n",
    "        hist = stock.history(start=startDate,  end=endDate)[[\"Open\", \"High\", \"Low\", \"Close\", \"Volume\"]]\n",
    "        all_data[ticker] = hist\n",
    "    return all_data\n",
    "\n",
    "# Fetch data for all Nifty 50 stocks\n",
    "nifty_50_data = fetch_stock_data(nifty_50_tickers)\n",
    "\n",
    "# Convert to a DataFrame for better visualization (optional)\n",
    "df_combined = pd.concat(nifty_50_data, axis=1)\n",
    "df_combined.columns = pd.MultiIndex.from_tuples(df_combined.columns)\n",
    "df_combined.head()\n",
    "\n",
    "# Save to CSV (optional)\n",
    "df_combined.to_csv('nifty_50_data.csv')\n"
   ]
  },
  {
   "cell_type": "code",
   "execution_count": 135,
   "id": "3f063fa2",
   "metadata": {},
   "outputs": [
    {
     "data": {
      "text/html": [
       "<div>\n",
       "<style scoped>\n",
       "    .dataframe tbody tr th:only-of-type {\n",
       "        vertical-align: middle;\n",
       "    }\n",
       "\n",
       "    .dataframe tbody tr th {\n",
       "        vertical-align: top;\n",
       "    }\n",
       "\n",
       "    .dataframe thead th {\n",
       "        text-align: right;\n",
       "    }\n",
       "</style>\n",
       "<table border=\"1\" class=\"dataframe\">\n",
       "  <thead>\n",
       "    <tr style=\"text-align: right;\">\n",
       "      <th></th>\n",
       "      <th>Date</th>\n",
       "      <th>2024-06-20 00:00:00+05:30</th>\n",
       "    </tr>\n",
       "  </thead>\n",
       "  <tbody>\n",
       "    <tr>\n",
       "      <th rowspan=\"5\" valign=\"top\">RELIANCE.NS</th>\n",
       "      <th>Open</th>\n",
       "      <td>2.918000e+03</td>\n",
       "    </tr>\n",
       "    <tr>\n",
       "      <th>High</th>\n",
       "      <td>2.965700e+03</td>\n",
       "    </tr>\n",
       "    <tr>\n",
       "      <th>Low</th>\n",
       "      <td>2.900200e+03</td>\n",
       "    </tr>\n",
       "    <tr>\n",
       "      <th>Close</th>\n",
       "      <td>2.947400e+03</td>\n",
       "    </tr>\n",
       "    <tr>\n",
       "      <th>Volume</th>\n",
       "      <td>8.056888e+06</td>\n",
       "    </tr>\n",
       "    <tr>\n",
       "      <th>...</th>\n",
       "      <th>...</th>\n",
       "      <td>...</td>\n",
       "    </tr>\n",
       "    <tr>\n",
       "      <th rowspan=\"5\" valign=\"top\">HDFCLIFE.NS</th>\n",
       "      <th>Open</th>\n",
       "      <td>5.941793e+02</td>\n",
       "    </tr>\n",
       "    <tr>\n",
       "      <th>High</th>\n",
       "      <td>5.954749e+02</td>\n",
       "    </tr>\n",
       "    <tr>\n",
       "      <th>Low</th>\n",
       "      <td>5.807251e+02</td>\n",
       "    </tr>\n",
       "    <tr>\n",
       "      <th>Close</th>\n",
       "      <td>5.881000e+02</td>\n",
       "    </tr>\n",
       "    <tr>\n",
       "      <th>Volume</th>\n",
       "      <td>6.133067e+06</td>\n",
       "    </tr>\n",
       "  </tbody>\n",
       "</table>\n",
       "<p>250 rows × 1 columns</p>\n",
       "</div>"
      ],
      "text/plain": [
       "Date                2024-06-20 00:00:00+05:30\n",
       "RELIANCE.NS Open                 2.918000e+03\n",
       "            High                 2.965700e+03\n",
       "            Low                  2.900200e+03\n",
       "            Close                2.947400e+03\n",
       "            Volume               8.056888e+06\n",
       "...                                       ...\n",
       "HDFCLIFE.NS Open                 5.941793e+02\n",
       "            High                 5.954749e+02\n",
       "            Low                  5.807251e+02\n",
       "            Close                5.881000e+02\n",
       "            Volume               6.133067e+06\n",
       "\n",
       "[250 rows x 1 columns]"
      ]
     },
     "execution_count": 135,
     "metadata": {},
     "output_type": "execute_result"
    }
   ],
   "source": [
    "df_combined.T"
   ]
  },
  {
   "cell_type": "code",
   "execution_count": null,
   "id": "6ae2c90c",
   "metadata": {},
   "outputs": [],
   "source": []
  }
 ],
 "metadata": {
  "kernelspec": {
   "display_name": "Python (GPU)",
   "language": "python",
   "name": "base"
  },
  "language_info": {
   "codemirror_mode": {
    "name": "ipython",
    "version": 3
   },
   "file_extension": ".py",
   "mimetype": "text/x-python",
   "name": "python",
   "nbconvert_exporter": "python",
   "pygments_lexer": "ipython3",
   "version": "3.11.5"
  }
 },
 "nbformat": 4,
 "nbformat_minor": 5
}
